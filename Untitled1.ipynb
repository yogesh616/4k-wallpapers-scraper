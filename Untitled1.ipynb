{
  "nbformat": 4,
  "nbformat_minor": 0,
  "metadata": {
    "colab": {
      "provenance": [],
      "authorship_tag": "ABX9TyPeklEP9+KiInMod+BUx0Wb",
      "include_colab_link": true
    },
    "kernelspec": {
      "name": "python3",
      "display_name": "Python 3"
    },
    "language_info": {
      "name": "python"
    }
  },
  "cells": [
    {
      "cell_type": "markdown",
      "metadata": {
        "id": "view-in-github",
        "colab_type": "text"
      },
      "source": [
        "<a href=\"https://colab.research.google.com/github/yogesh616/4k-wallpapers-scraper/blob/main/Untitled1.ipynb\" target=\"_parent\"><img src=\"https://colab.research.google.com/assets/colab-badge.svg\" alt=\"Open In Colab\"/></a>"
      ]
    },
    {
      "cell_type": "code",
      "execution_count": 25,
      "metadata": {
        "colab": {
          "base_uri": "https://localhost:8080/"
        },
        "id": "9Q3Re8A5JLY5",
        "outputId": "b28475c9-2de3-49f8-8bb2-6e1c79c7181f"
      },
      "outputs": [
        {
          "output_type": "stream",
          "name": "stderr",
          "text": [
            "Your max_length is set to 50, but your input_length is only 44. Since this is a summarization task, where outputs shorter than the input are typically wanted, you might consider decreasing max_length manually, e.g. summarizer('...', max_length=22)\n"
          ]
        },
        {
          "output_type": "stream",
          "name": "stdout",
          "text": [
            "Complete Summary: Alan Walker, Sabrina Carpenter & Farruko - On My Way (Lyrics): https://lnk.to ... duration: 3:14. \n"
          ]
        }
      ],
      "source": [
        "from transformers import pipeline\n",
        "\n",
        "summarizer = pipeline(\"summarization\", model=\"facebook/bart-large-cnn\")\n",
        "chunk1  = (\n",
        "    \"Mar 21, 2019 · Download Alan Walker, Sabrina Carpenter & Farruko - On My Way (Lyrics): https://lnk.to ...Duration: 3:14Posted: Mar 21, 2019\"\n",
        ")\n",
        "#chunk2 = \"'I recently googled my 7th grade teacher and found his current email address'\"\n",
        "summary1 = summarizer(chunk1, max_length=50, min_length=25, do_sample=False)[0]['summary_text']\n",
        "#summary2 = summarizer(chunk2, max_length=50, min_length=25, do_sample=False)[0]['summary_text']\n",
        "complete_summary = f\"{summary1} \"\n",
        "print(\"Complete Summary:\", complete_summary)"
      ]
    }
  ]
}